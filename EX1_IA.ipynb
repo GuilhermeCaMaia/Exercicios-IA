{
  "nbformat": 4,
  "nbformat_minor": 0,
  "metadata": {
    "colab": {
      "provenance": []
    },
    "kernelspec": {
      "name": "python3",
      "display_name": "Python 3"
    },
    "language_info": {
      "name": "python"
    }
  },
  "cells": [
    {
      "cell_type": "markdown",
      "source": [
        "# Exercicio 1\n",
        "Este codigo cria um loop que recebem valores: verifica se é par ou impa, converte de float para int e atraves de uma função converte para valor binario, octal e hexadecimal."
      ],
      "metadata": {
        "id": "iqsyqff6vCUM"
      }
    },
    {
      "cell_type": "code",
      "execution_count": null,
      "metadata": {
        "colab": {
          "base_uri": "https://localhost:8080/"
        },
        "id": "-IMvHwSd5sAm",
        "outputId": "8a47dd84-2917-462e-c261-e678fad5d6a8"
      },
      "outputs": [
        {
          "output_type": "stream",
          "name": "stdout",
          "text": [
            "Digite o tamanho do loop:2\n",
            "Digite um valor:10\n",
            "a) Os valores digitados (originais)\n",
            "10\n",
            "valor: 10 é par!!\n",
            "Digite um valor:2\n",
            "a) Os valores digitados (originais)\n",
            "2\n",
            "valor: 2 é par!!\n",
            "d) Cada valor da lista arredondado para 1 casa decimal.\n",
            "[10.0, 2.0]\n",
            "e) O somatório de valores contidos na lista original arredondado para 2 casas decimais.\n",
            "12.0\n",
            "f) Cada valor da lista arredondado para inteiro.\n",
            "[10, 2]\n",
            "g) Do inteiro de cada valor, mostrar no sistema binário.\n",
            "['1010', '10']\n",
            "h) Do inteiro de cada valor, mostrar no sistema octal.\n",
            "['12', '2']\n",
            "i) Do inteiro de cada valor, mostrar no sistema hexadecimal.\n",
            "['a', '2']\n"
          ]
        }
      ],
      "source": [
        "#g) Do inteiro de cada valor, mostrar no sistema binário;\n",
        "#h) Do inteiro de cada valor, mostrar no sistema octal;\n",
        "#i) Do inteiro de cada valor, mostrar no sistema hexadecimal.\n",
        "####################################################################\n",
        "#################### Função de converção ###########################\n",
        "####################################################################\n",
        "def convercao(x):\n",
        "  binario = bin(x)\n",
        "  octal = oct(x)\n",
        "  hexadecimal = hex(x)\n",
        "\n",
        "  listaBin.append(str(binario)[2:])\n",
        "  listaOct.append(str(octal)[2:])\n",
        "  listaHex.append(str(hexadecimal)[2:])\n",
        "  # print(\"Base Binaria:\" + str(binario)[2:])\n",
        "  # print(\"Base Octal:\" + str(octal)[2:])\n",
        "  # print(\"Base Hexadecimal:\" + str(hexadecimal)[2:])\n",
        "\n",
        "\n",
        "n = int(input(\"Digite o tamanho do loop:\"))\n",
        "################################################################################\n",
        "############################# Criação das listas ###############################\n",
        "################################################################################\n",
        "somaOriginal = 0\n",
        "listafloat = []\n",
        "listafloat1c = []\n",
        "listaSomatorio2c = []\n",
        "listaInt = []\n",
        "listaPar = []\n",
        "listaImpar = []\n",
        "listaBin = []\n",
        "listaOct = []\n",
        "listaHex = []\n",
        "\n",
        "################################################################################\n",
        "######################## Loop para incerção dos dados ##########################\n",
        "################################################################################\n",
        "for i in range(0,n):\n",
        "  valor = input(\"Digite um valor:\")\n",
        "  print(\"a) Os valores digitados (originais)\")\n",
        "  print(valor)#A)\n",
        "  floatValor = float(valor)\n",
        "  listafloat.append(floatValor)\n",
        "\n",
        "  intValor = round(floatValor)\n",
        "  listaInt.append(intValor)\n",
        "\n",
        "\n",
        "  listafloat1c.append(round(floatValor,1))\n",
        "\n",
        "#Verificação de impa ou par\n",
        "  if (floatValor%2 == 0):\n",
        "    print(f\"valor: {valor} é par!!\")#B)\n",
        "    # print(intValor)#F)\n",
        "\n",
        "  else:\n",
        "    print(f\"valor: {valor} é impar!!\")#C)\n",
        "    # print(intValor)#F)\n",
        "\n",
        "  # print(\"Valor aredondado para 1 casa decimal:\")\n",
        "  # print(round(floatValor,1))#D)\n",
        "\n",
        "  # print(\"Valor aredondado para 2 casas decimais:\")\n",
        "  # print(round(floatValor,2))#E)\n",
        "\n",
        "  # print(\"valor aredondado para interiro:\")#F)\n",
        "  # print(intValor)#F)\n",
        "\n",
        "  convercao(intValor)#G)H)I)\n",
        "\n",
        "  somaOriginal = somaOriginal + floatValor;\n",
        "\n",
        "# print(\"Valor Total aredondado para 1 casa decimal:\")\n",
        "# print(round(somaOriginal,1))#D)\n",
        "# print(\"Valor Total aredondado para 2 casa decimal:\")\n",
        "# print(round(somaOriginal,2))#E)\n",
        "# print(\"Valor Total aredondado para inteiro:\")\n",
        "# print(int(somaOriginal))#F)\n",
        "\n",
        "intSomaOriginal = round(somaOriginal)#G)\n",
        "\n",
        "# print(\"valor original em:\")\n",
        "# convercao(intSomaOriginal)\n",
        "print(\"d) Cada valor da lista arredondado para 1 casa decimal.\")\n",
        "print(listafloat1c)\n",
        "print(\"e) O somatório de valores contidos na lista original arredondado para 2 casas decimais.\")\n",
        "print(round(somaOriginal,2))\n",
        "print(\"f) Cada valor da lista arredondado para inteiro.\")\n",
        "print(listaInt)\n",
        "print(\"g) Do inteiro de cada valor, mostrar no sistema binário.\")\n",
        "print(listaBin)\n",
        "print(\"h) Do inteiro de cada valor, mostrar no sistema octal.\")\n",
        "print(listaOct)\n",
        "print(\"i) Do inteiro de cada valor, mostrar no sistema hexadecimal.\")\n",
        "print(listaHex)"
      ]
    }
  ]
}