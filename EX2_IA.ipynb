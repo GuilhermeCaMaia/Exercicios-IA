{
  "nbformat": 4,
  "nbformat_minor": 0,
  "metadata": {
    "colab": {
      "provenance": []
    },
    "kernelspec": {
      "name": "python3",
      "display_name": "Python 3"
    },
    "language_info": {
      "name": "python"
    }
  },
  "cells": [
    {
      "cell_type": "markdown",
      "source": [
        "# Exercicio 2\n",
        "Este codigo le um texto do teclado e conta suas vogais.\n",
        "Armazenado em uma variavel 'texto' vazia e uma lendo do teclado e armazenado em uma variavel 'linha' e então dentro de um loop acrecenta 'linha' a 'texto', para quando linha for vazia ele sair do loop e então um outro loop para contar as vogais."
      ],
      "metadata": {
        "id": "L0nzuFhtqM4j"
      }
    },
    {
      "cell_type": "code",
      "execution_count": null,
      "metadata": {
        "colab": {
          "base_uri": "https://localhost:8080/"
        },
        "id": "SACFALgywSL7",
        "outputId": "78e87dfa-76bb-4fbf-8d26-1aa72a5978ac"
      },
      "outputs": [
        {
          "output_type": "stream",
          "name": "stdout",
          "text": [
            "Digite uma linha (ou ENTER para encerrar):\n",
            "Ola\n",
            "Meu nome é Guilherme\n",
            "\n",
            "O texto digitado contém 11 vogais!\n",
            "\n",
            "Ola\n",
            "Meu nome é Guilherme\n",
            "\n"
          ]
        }
      ],
      "source": [
        "#Cria um texto vazio\n",
        "texto = \"\"\n",
        "linha = input(\"Digite uma linha (ou ENTER para encerrar):\\n\")\n",
        "\n",
        "while linha != \"\":\n",
        "# adiciona linha ao texto\n",
        "    texto = texto + linha + \"\\n\"\n",
        "# input para que o se deixar a linha vazia possa quebra o loop\n",
        "    linha = input(\"\")\n",
        "\n",
        "#Loop para contar as vogais\n",
        "contadorVogais = 0\n",
        "for letra in texto:\n",
        "    if letra.lower() in \"aeiouáâéêíîóôúû\":\n",
        "        contadorVogais += 1\n",
        "\n",
        "print(f\"O texto digitado contém {contadorVogais} vogais!\")\n",
        "print(\"\")\n",
        "print(texto)"
      ]
    }
  ]
}